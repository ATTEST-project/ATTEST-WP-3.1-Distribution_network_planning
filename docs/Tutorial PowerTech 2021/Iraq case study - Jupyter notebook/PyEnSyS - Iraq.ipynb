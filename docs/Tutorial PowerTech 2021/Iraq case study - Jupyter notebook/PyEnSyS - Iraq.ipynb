{
 "cells": [
  {
   "cell_type": "markdown",
   "metadata": {},
   "source": [
    "<img src=\"diagrams\\Title_.png\" alt=\"ren_pot\" width=\"1000\">"
   ]
  },
  {
   "cell_type": "markdown",
   "metadata": {
    "slideshow": {
     "slide_type": "slide"
    }
   },
   "source": [
    "# PyEnSyS\n",
    "\n",
    "\n",
    "## Iraq case study demonstration using Jupyter Notebook \n",
    "\n",
    "### Input data:\n",
    "\n",
    "Power network data from:\n",
    "* Afaneen Anwer and Mizher Nazar, Optimal Load Shedding of Iraqi Power System using Frequency and Voltage Sensitivities Method https://inpressco.com/wp-content/uploads/2019/02/Paper1496-104.pdf\n",
    "\n",
    "Power demand data from:\n",
    "* https://www.moelc.gov.iq/home?lang=en\n",
    "\n",
    "Weather data from:\n",
    "* https://www.renewables.ninja/\n",
    "\n",
    "Solar and wind maps from:\n",
    "* https://globalsolaratlas.info/map\n",
    "* https://globalwindatlas.info/\n",
    "\n",
    "Future DAMS online tool:\n",
    "* https://www.waterstrategy.org/\n",
    "* https://hydra.org.uk/"
   ]
  },
  {
   "cell_type": "markdown",
   "metadata": {},
   "source": [
    "### Importing tools and packages"
   ]
  },
  {
   "cell_type": "code",
   "execution_count": 1,
   "metadata": {},
   "outputs": [],
   "source": [
    "# installing and importing tools and packages\n",
    "\n",
    "from pyensys.engines import main\n",
    "import os\n",
    "import sys\n",
    "import subprocess\n",
    "import pkg_resources\n",
    "\n",
    "required = {'pyensys'}\n",
    "installed = {pkg.key for pkg in pkg_resources.working_set}\n",
    "missing = required - installed\n",
    "\n",
    "if missing:\n",
    "    python = sys.executable\n",
    "    subprocess.check_call([python, '-m', 'pip', 'install', *missing], stdout=subprocess.DEVNULL)"
   ]
  },
  {
   "cell_type": "markdown",
   "metadata": {
    "slideshow": {
     "slide_type": "slide"
    }
   },
   "source": [
    "<br>\n",
    "<br>\n",
    "\n",
    "## Diagram of 400 kV Iraqi transmission network:\n",
    "<br>\n",
    "<img src=\"diagrams\\Iraq_power_network.png\" alt=\"ren_pot\" width=\"1000\">\n"
   ]
  },
  {
   "cell_type": "markdown",
   "metadata": {},
   "source": [
    "<br>\n",
    "<br>\n",
    "<br>\n",
    "<br>\n",
    "\n",
    "# Estimating the power output from solar and wind:"
   ]
  },
  {
   "cell_type": "markdown",
   "metadata": {},
   "source": [
    "## Renewable potential \n",
    "<img src=\"diagrams\\Iraq_solar_wind.png\" alt=\"ren_pot\" width=\"1000\">"
   ]
  },
  {
   "cell_type": "markdown",
   "metadata": {},
   "source": [
    "<br>\n",
    "<br>\n",
    "\n",
    "\n",
    "## Input data (weather data from renewables ninja: https://www.renewables.ninja/)\n",
    "\n",
    "### Solar Irradiation \n",
    "<img src=\"diagrams\\Diagram_solar_irradiation.png\" alt=\"solar_irr\" width=\"600\">"
   ]
  },
  {
   "cell_type": "markdown",
   "metadata": {},
   "source": [
    "### Wind speed and ambient temperature\n",
    "<img src=\"diagrams\\Diagram_wind_n_temp.png\" alt=\"solar_irr\" width=\"600\">"
   ]
  },
  {
   "cell_type": "markdown",
   "metadata": {},
   "source": [
    "## Potential generation from renewable technologies\n",
    "\n",
    "### Solar Photovoltaics \n",
    "<img src=\"diagrams\\Diagram_Gen_SolarPV.png\" width=\"600\">"
   ]
  },
  {
   "cell_type": "markdown",
   "metadata": {},
   "source": [
    "### Wind power \n",
    "<img src=\"diagrams\\Diagram_Gen_Wind.png\" width=\"600\">"
   ]
  },
  {
   "cell_type": "markdown",
   "metadata": {},
   "source": [
    "# Running PyEnSyS\n",
    "\n",
    "## Input data\n",
    "\n",
    "### Simulation (more tools under development)\n",
    "\n",
    "|               model               |        |        |                        |         |\n",
    "|:---------------------------------:|--------|--------|------------------------|---------|\n",
    "| Problem                           | Active | Engine |     Characteristics    | Options |\n",
    "| DC Optimal Power Flow             |  TRUE  |  pyene | **Base Power**             |   **100**   |\n",
    "| balance tree                      |  FALSE |  pyene |             |     |\n",
    "| transmission expansion planning |  FALSE |  fdif  | output file name       | Results |"
   ]
  },
  {
   "cell_type": "markdown",
   "metadata": {},
   "source": [
    "### Profiles - Active power demand\n",
    "\n",
    "| type               | bus                    |         |        |        |        |        |        |        |        |        |        |        |        |        |        |        |        |        |        |        |        |        |        |        |\n",
    "|--------------------|------------------------|---------|--------|--------|--------|--------|--------|--------|--------|--------|--------|--------|--------|--------|--------|--------|--------|--------|--------|--------|--------|--------|--------|--------|\n",
    "| representative day | week                   | **weekday** |        |        |        |        |        |        |        |        |        |        |        |        |        |        |        |        |        |        |        |        |        |        |\n",
    "| name               | **active power demand**    |         |        |        |        |        |        |        |        |        |        |        |        |        |        |        |        |        |        |        |        |        |        |        |\n",
    "| dataset            | hour                   |         |        |        |        |        |        |        |        |        |        |        |        |        |        |        |        |        |        |        |        |        |        |        |\n",
    "| ID                 | 0                      | 1       | 2      | 3      | 4      | 5      | 6      | 7      | 8      | 9      | 10     | 11     | 12     | 13     | 14     | 15     | 16     | 17     | 18     | 19     | 20     | 21     | 22     | 23     |\n",
    "| all                | 0.4819                 | 0.5310  | 0.5014 | 0.4587 | 0.4280 | 0.43   | 0.5326 | 0.73   | 0.80   | 0.81   | 0.80   | 0.79   | 0.80   | 0.7516 | 0.7371 | 0.7653 | 0.9142 | 1      | 0.9401 | 0.8702 | 0.796  | 0.7441 | 0.6415 | 0.4969 |\n",
    "|                    |                        |         |        |        |        |        |        |        |        |        |        |        |        |        |        |        |        |        |        |        |        |        |        |        |\n",
    "| type               | bus                    |         |        |        |        |        |        |        |        |        |        |        |        |        |        |        |        |        |        |        |        |        |        |        |\n",
    "| representative day | week                   | **weekend** |        |        |        |        |        |        |        |        |        |        |        |        |        |        |        |        |        |        |        |        |        |        |\n",
    "| name               | **active power demand**    |         |        |        |        |        |        |        |        |        |        |        |        |        |        |        |        |        |        |        |        |        |        |        |\n",
    "| dataset            | hour                   |         |        |        |        |        |        |        |        |        |        |        |        |        |        |        |        |        |        |        |        |        |        |        |\n",
    "| ID                 | 0                      | 1       | 2      | 3      | 4      | 5      | 6      | 7      | 8      | 9      | 10     | 11     | 12     | 13     | 14     | 15     | 16     | 17     | 18     | 19     | 20     | 21     | 22     | 23     |\n",
    "| all                | 0.3271                 | 0.2933  | 0.2887 | 0.2738 | 0.2634 | 0.2594 | 0.2965 | 0.3749 | 0.4595 | 0.5319 | 0.5579 | 0.5711 | 0.5878 | 0.5293 | 0.4791 | 0.4767 | 0.4946 | 0.5325 | 0.5185 | 0.4952 | 0.4759 | 0.5091 | 0.5092 | 0.4043 |\n",
    "|                    |                        |         |        |        |        |        |        |        |        |        |        |        |        |        |        |        |        |        |        |        |        |        |        |        |"
   ]
  },
  {
   "cell_type": "markdown",
   "metadata": {},
   "source": [
    "### Profiles - Wind generators\n",
    "\n",
    "| type               | generator              |         |       |       |       |       |       |       |       |       |       |       |       |       |       |       |       |       |       |       |       |       |       |       |\n",
    "|--------------------|------------------------|---------|-------|-------|-------|-------|-------|-------|-------|-------|-------|-------|-------|-------|-------|-------|-------|-------|-------|-------|-------|-------|-------|-------|\n",
    "| subtype            | wind                   |         |       |       |       |       |       |       |       |       |       |       |       |       |       |       |       |       |       |       |       |       |       |       |\n",
    "| representative day | week                   | **weekday** |       |       |       |       |       |       |       |       |       |       |       |       |       |       |       |       |       |       |       |       |       |       |\n",
    "| name               | **active power max limit** |         |       |       |       |       |       |       |       |       |       |       |       |       |       |       |       |       |       |       |       |       |       |       |\n",
    "| dataset            | hour                   |         |       |       |       |       |       |       |       |       |       |       |       |       |       |       |       |       |       |       |       |       |       |       |\n",
    "| ID                 | 0                      | 1       | 2     | 3     | 4     | 5     | 6     | 7     | 8     | 9     | 10    | 11    | 12    | 13    | 14    | 15    | 16    | 17    | 18    | 19    | 20    | 21    | 22    | 23    |\n",
    "| all                | 0.737                  | 0.74    | 0.75  | 0.759 | 0.759 | 0.739 | 0.703 | 0.652 | 0.657 | 0.655 | 0.67  | 0.677 | 0.684 | 0.695 | 0.71  | 0.735 | 0.752 | 0.75  | 0.762 | 0.748 | 0.726 | 0.705 | 0.685 | 0.666 |\n",
    "|                    |                        |         |       |       |       |       |       |       |       |       |       |       |       |       |       |       |       |       |       |       |       |       |       |       |\n",
    "| type               | generator              |         |       |       |       |       |       |       |       |       |       |       |       |       |       |       |       |       |       |       |       |       |       |       |\n",
    "| subtype            | wind                   |         |       |       |       |       |       |       |       |       |       |       |       |       |       |       |       |       |       |       |       |       |       |       |\n",
    "| representative day | week                   | **weekend** |       |       |       |       |       |       |       |       |       |       |       |       |       |       |       |       |       |       |       |       |       |       |\n",
    "| name               | **active power max limit** |         |       |       |       |       |       |       |       |       |       |       |       |       |       |       |       |       |       |       |       |       |       |       |\n",
    "| dataset            | hour                   |         |       |       |       |       |       |       |       |       |       |       |       |       |       |       |       |       |       |       |       |       |       |       |\n",
    "| ID                 | 0                      | 1       | 2     | 3     | 4     | 5     | 6     | 7     | 8     | 9     | 10    | 11    | 12    | 13    | 14    | 15    | 16    | 17    | 18    | 19    | 20    | 21    | 22    | 23    |\n",
    "| all                | 0.845                  | 0.831   | 0.835 | 0.849 | 0.854 | 0.847 | 0.841 | 0.826 | 0.792 | 0.75  | 0.674 | 0.6   | 0.601 | 0.644 | 0.693 | 0.737 | 0.794 | 0.853 | 0.894 | 0.929 | 0.93  | 0.921 | 0.899 | 0.885 |"
   ]
  },
  {
   "cell_type": "markdown",
   "metadata": {},
   "source": [
    "### Profiles - Solar photovoltaic generators\n",
    "\n",
    "| type               | generator              |         |   |   |   |   |       |       |       |       |       |       |       |       |       |       |       |       |       |    |    |    |    |    |\n",
    "|--------------------|------------------------|---------|---|---|---|---|-------|-------|-------|-------|-------|-------|-------|-------|-------|-------|-------|-------|-------|----|----|----|----|----|\n",
    "| subtype            | pv                     |         |   |   |   |   |       |       |       |       |       |       |       |       |       |       |       |       |       |    |    |    |    |    |\n",
    "| representative day | week                   | weekday |   |   |   |   |       |       |       |       |       |       |       |       |       |       |       |       |       |    |    |    |    |    |\n",
    "| name               | active power max limit |         |   |   |   |   |       |       |       |       |       |       |       |       |       |       |       |       |       |    |    |    |    |    |\n",
    "| dataset            | hour                   |         |   |   |   |   |       |       |       |       |       |       |       |       |       |       |       |       |       |    |    |    |    |    |\n",
    "| ID                 | 0                      | 1       | 2 | 3 | 4 | 5 | 6     | 7     | 8     | 9     | 10    | 11    | 12    | 13    | 14    | 15    | 16    | 17    | 18    | 19 | 20 | 21 | 22 | 23 |\n",
    "| all                | 0                      | 0       | 0 | 0 | 0 | 0 | 0.005 | 0.177 | 0.386 | 0.553 | 0.657 | 0.714 | 0.718 | 0.692 | 0.634 | 0.516 | 0.363 | 0.164 | 0.005 | 0  | 0  | 0  | 0  | 0  |\n",
    "|                    |                        |         |   |   |   |   |       |       |       |       |       |       |       |       |       |       |       |       |       |    |    |    |    |    |\n",
    "| type               | generator              |         |   |   |   |   |       |       |       |       |       |       |       |       |       |       |       |       |       |    |    |    |    |    |\n",
    "| subtype            | pv                     |         |   |   |   |   |       |       |       |       |       |       |       |       |       |       |       |       |       |    |    |    |    |    |\n",
    "| representative day | week                   | weekend |   |   |   |   |       |       |       |       |       |       |       |       |       |       |       |       |       |    |    |    |    |    |\n",
    "| name               | active power max limit |         |   |   |   |   |       |       |       |       |       |       |       |       |       |       |       |       |       |    |    |    |    |    |\n",
    "| dataset            | hour                   |         |   |   |   |   |       |       |       |       |       |       |       |       |       |       |       |       |       |    |    |    |    |    |\n",
    "| ID                 | 0                      | 1       | 2 | 3 | 4 | 5 | 6     | 7     | 8     | 9     | 10    | 11    | 12    | 13    | 14    | 15    | 16    | 17    | 18    | 19 | 20 | 21 | 22 | 23 |\n",
    "| all                | 0                      | 0       | 0 | 0 | 0 | 0 | 0.003 | 0.132 | 0.318 | 0.499 | 0.602 | 0.655 | 0.654 | 0.626 | 0.521 | 0.35  | 0.232 | 0.087 | 0.001 | 0  | 0  | 0  | 0  | 0  |"
   ]
  },
  {
   "cell_type": "markdown",
   "metadata": {},
   "source": [
    "### Bus\n",
    "\n",
    "|  ID | number | type node power flow | active power demand | BasekV |\n",
    "|:---:|:------:|:--------------------:|:-------------------:|:-----:|\n",
    "| N1  | 1      | 2                    | 0                   | 400   |\n",
    "| N2  | 2      | 1                    | 198.2               | 400   |\n",
    "| N3  | 3      | 1                    | 403.2               | 400   |\n",
    "| N4  | 4      | 2                    | 0                   | 400   |\n",
    "| N5  | 5      | 1                    | 0                   | 400   |\n",
    "| N6  | 6      | 2                    | 537.2               | 400   |\n",
    "| N7  | 7      | 1                    | 571.8               | 400   |\n",
    "| N8  | 8      | 1                    | 517.6               | 400   |\n",
    "| N9  | 9      | 1                    | 303.4               | 400   |\n",
    "| N10 | 10     | 1                    | 674.2               | 400   |\n",
    "| N11 | 11     | 2                    | 235.4               | 400   |\n",
    "| N12 | 12     | 1                    | 647.1               | 400   |\n",
    "| N13 | 13     | 1                    | 581.2               | 400   |\n",
    "| N14 | 14     | 2                    | 0                   | 400   |\n",
    "| N15 | 15     | 2                    | 0                   | 400   |\n",
    "| N16 | 16     | 2                    | 0                   | 400   |\n",
    "| N17 | 17     | 1                    | 121.9               | 400   |\n",
    "| N18 | 18     | 1                    | 526                 | 400   |\n",
    "| N19 | 19     | 3                    | 631.7               | 400   |\n",
    "| N20 | 20     | 2                    | 517.2               | 400   |\n",
    "| N21 | 21     | 2                    | 0                   | 400   |\n",
    "| N22 | 22     | 1                    | 563.3               | 400   |\n",
    "| N23 | 23     | 2                    | 0                   | 400   |\n",
    "| N24 | 24     | 2                    | 0                   | 400   |\n",
    "| N25 | 25     | 1                    | 408.5               | 400   |\n",
    "| N26 | 26     | 2                    | 565.9               | 400   |\n",
    "| N27 | 27     | 2                    | 317                 | 400   |\n",
    "| N28 | 28     | 1                    | 316.3               | 400   |\n",
    "| N29 | 29     | 2                    | 339.6               | 400   |\n",
    "| N30 | 30     | 2                    | 758.7               | 400   |\n",
    "| N31 | 31     | 2                    | 383.4               | 400   |\n",
    "| N32 | 32     | 2                    | 0                   | 400   |\n",
    "| N33 | 33     | 2                    | 656.2               | 400   |"
   ]
  },
  {
   "cell_type": "markdown",
   "metadata": {},
   "source": [
    "### Branches\n",
    "\n",
    "|  ID | from | to | subtype | resistance | reactance | line charging susceptance |\n",
    "|:---:|:----:|:--:|:-------:|:----------:|:---------:|:-------------------------:|\n",
    "| L1  | 1    | 2  |   line  | 0.003142   | 0.028565  | 0.846365                  |\n",
    "| L2  | 1    | 3  |   line  | 0.002015   | 0.018321  | 0.542841                  |\n",
    "| L3  | 3    | 5  |   line  | 0.001409   | 0.012805  | 0.379405                  |\n",
    "| L4  | 4    | 5  |   line  | 0.000271   | 0.002462  | 0.072963                  |\n",
    "| L5  | 5    | 6  |   line  | 0.002449   | 0.022261  | 0.659581                  |\n",
    "| L6  | 6    | 17 |   line  | 0.004018   | 0.036387  | 1.080845                  |\n",
    "| L7  | 7    | 10 |   line  | 0.000932   | 0.008471  | 0.250991                  |\n",
    "| L8  | 7    | 13 |   line  | 0.000854   | 0.007167  | 0.219669                  |\n",
    "| L9  | 8    | 12 |   line  | 0.000966   | 0.008786  | 0.26033                   |\n",
    "| L10 | 8    | 13 |   line  | 0.001236   | 0.010125  | 0.313493                  |\n",
    "| L11 | 8    | 14 |   line  | 0.000365   | 0.002989  | 0.092544                  |\n",
    "| L12 | 8    | 20 |   line  | 0.00122    | 0.01015   | 0.31897                   |\n",
    "| L13 | 8    | 25 |   line  | 0.00308    | 0.02795   | 0.82827                   |\n",
    "| L14 | 9    | 10 |   line  | 0.00029    | 0.00262   | 0.07763                   |\n",
    "| L15 | 9    | 12 |   line  | 0.000779   | 0.006633  | 0.201972                  |\n",
    "| L16 | 9    | 17 |   line  | 0.000919   | 0.008192  | 0.24473                   |\n",
    "| L17 | 10   | 11 |   line  | 0.000185   | 0.001513  | 0.04685                   |\n",
    "| L18 | 10   | 11 |   line  | 0.000185   | 0.001513  | 0.04685                   |\n",
    "| L19 | 12   | 15 |   line  | 0.000775   | 0.006351  | 0.196656                  |\n",
    "| L20 | 12   | 17 |   line  | 0.001553   | 0.013464  | 0.406894                  |\n",
    "| L21 | 12   | 19 |   line  | 0.002338   | 0.020124  | 0.60997                   |\n",
    "| L22 | 12   | 19 |   line  | 0.002338   | 0.020124  | 0.60997                   |\n",
    "| L23 | 13   | 21 |   line  | 0.002307   | 0.019847  | 0.608338                  |\n",
    "| L24 | 16   | 17 |   line  | 0.002508   | 0.020548  | 0.63624                   |\n",
    "| L25 | 18   | 19 |   line  | 0.001728   | 0.01542   | 0.460381                  |\n",
    "| L26 | 18   | 19 |   line  | 0.001728   | 0.01542   | 0.460381                  |\n",
    "| L27 | 18   | 26 |   line  | 0.00432    | 0.03928   | 1.1639                    |\n",
    "| L28 | 18   | 27 |   line  | 0.00479    | 0.04354   | 1.28998                   |\n",
    "| L29 | 20   | 21 |   line  | 0.000125   | 0.001043  | 0.032791                  |\n",
    "| L30 | 20   | 22 |   line  | 0.00081    | 0.00673   | 0.21165                   |\n",
    "| L31 | 20   | 22 |   line  | 0.00081    | 0.00673   | 0.21165                   |\n",
    "| L32 | 22   | 23 |   line  | 0.000898   | 0.00736   | 0.22789                   |\n",
    "| L33 | 22   | 25 |   line  | 0.00233    | 0.01935   | 0.60812                   |\n",
    "| L34 | 23   | 25 |   line  | 0.002062   | 0.016897  | 0.523197                  |\n",
    "| L35 | 24   | 25 |   line  | 0.000604   | 0.00495   | 0.153276                  |\n",
    "| L36 | 25   | 26 |   line  | 0.00383    | 0.03485   | 1.03256                   |\n",
    "| L37 | 26   | 31 |   line  | 0.00346    | 0.031232  | 0.929646                  |\n",
    "| L38 | 27   | 28 |   line  | 0.00169    | 0.015366  | 0.455286                  |\n",
    "| L39 | 28   | 29 |   line  | 0.00122    | 0.011091  | 0.328623                  |\n",
    "| L40 | 29   | 30 |   line  | 0.00118    | 0.01076   | 0.3187                    |\n",
    "| L41 | 30   | 31 |   line  | 0.001488   | 0.013305  | 0.398479                  |\n",
    "| L42 | 30   | 33 |   line  | 0.000563   | 0.005122  | 0.151762                  |\n",
    "| L43 | 33   | 32 |   line  | 0.000103   | 0.000841  | 0.026028                  |"
   ]
  },
  {
   "cell_type": "markdown",
   "metadata": {},
   "source": [
    "### Generators\n",
    "\n",
    "|     ID     | number | subtype | active power max limit |\n",
    "|:----------:|:------:|:-------:|:----------------------:|\n",
    "|   Hydro_1  |    1   |  hydro  |           240          |\n",
    "|  Thermal_1 |    4   | thermal |           360          |\n",
    "|  Thermal_2 |    6   | thermal |          304.4         |\n",
    "|  Thermal_3 |   11   | thermal |          690.7         |\n",
    "|  Thermal_4 |   14   | thermal |           980          |\n",
    "|  Thermal_5 |   15   | thermal |           490          |\n",
    "|  Thermal_6 |   16   | thermal |           325          |\n",
    "|  Thermal_7 |   19   | thermal |         2443.33        |\n",
    "|  Thermal_8 |   20   | thermal |           800          |\n",
    "|  Thermal_9 |   21   | thermal |          166.3         |\n",
    "| Thermal_10 |   23   | thermal |           746          |\n",
    "| Thermal_11 |   24   | thermal |          345.8         |\n",
    "| Thermal_12 |   26   | thermal |          524.2         |\n",
    "| Thermal_13 |   27   | thermal |          345.8         |\n",
    "| Thermal_14 |   29   | thermal |          116.5         |\n",
    "| Thermal_15 |   30   | thermal |          758.7         |\n",
    "| Thermal_16 |   31   | thermal |          980.4         |\n",
    "| Thermal_17 |   32   | thermal |           769          |"
   ]
  },
  {
   "cell_type": "markdown",
   "metadata": {},
   "source": [
    "<br>\n",
    "<br>\n",
    "<br>\n",
    "<br>\n",
    "\n",
    "# Running the model:\n",
    "\n",
    "## Current system \n",
    "<br>"
   ]
  },
  {
   "cell_type": "code",
   "execution_count": 2,
   "metadata": {},
   "outputs": [
    {
     "name": "stderr",
     "output_type": "stream",
     "text": [
      "C:\\Python\\lib\\site-packages\\tables\\path.py:155: NaturalNameWarning: object name is not a valid Python identifier: 'active power generation_week_weekday'; it does not match the pattern ``^[a-zA-Z_][a-zA-Z0-9_]*$``; you will not be able to use natural naming to access this object; using ``getattr()`` will still work, though\n",
      "  check_attribute_name(name)\n"
     ]
    }
   ],
   "source": [
    "file_name = 'Iraq_pyensys.xlsx'\n",
    "\n",
    "path = os.getcwd()\n",
    "os.chdir(path)\n",
    "path = os.path.abspath(file_name)\n",
    "opt = main.pyeneClass()\n",
    "time=0.0\n",
    "for i in range(2):\n",
    "    # This 'for' will execute 2 timesteps, one at midnight and one at noon\n",
    "    time = time + i*12\n",
    "    opt.initialise(path=path)\n",
    "    subscripts = {\"pt\" : [[\"week\", \"weekday\"], \"v_string\"],\"hour\" : [time, \"double\"]}\n",
    "    opt.run(subscripts=subscripts)\n",
    "    opt.save_outputs(sim_no=int(time))\n",
    "    opt.close_output_files()"
   ]
  },
  {
   "cell_type": "markdown",
   "metadata": {},
   "source": [
    "<br>\n",
    "<br>\n",
    "\n",
    "## Results \n",
    "\n",
    "### Example information available in output file:"
   ]
  },
  {
   "cell_type": "markdown",
   "metadata": {},
   "source": [
    "### Power demand\n",
    "\n",
    "| Power demand            |         |    |          |          |    |    |          |          |          |          |         |          |          |          |     |     |     |          |          |          |          |     |          |     |     |          |          |          |         |          |          |          |     |          |\n",
    "|---------------|---------|----|----------|----------|----|----|----------|----------|----------|----------|---------|----------|----------|----------|-----|-----|-----|----------|----------|----------|----------|-----|----------|-----|-----|----------|----------|----------|---------|----------|----------|----------|-----|----------|\n",
    "| pt            | hour    | N1 | N2       | N3       | N4 | N5 | N6       | N7       | N8       | N9       | N10     | N11      | N12      | N13      | N14 | N15 | N16 | N17      | N18      | N19      | N20      | N21 | N22      | N23 | N24 | N25      | N26      | N27      | N28     | N29      | N30      | N31      | N32 | N33      |\n",
    "| week\\|weekday | 0       | 0  | 0.955126 | 1.943021 | 0  | 0  | 2.588767 | 2.755504 | 2.494314 | 1.462085 | 3.24897 | 1.134393 | 3.118375 | 2.800803 | 0   | 0   | 0   | 0.587436 | 2.534794 | 3.044162 | 2.492387 | 0   | 2.714543 | 0   | 0   | 1.968562 | 2.727072 | 1.527623 | 1.52425 | 1.636532 | 3.656175 | 1.847605 | 0   | 3.162228 |\n",
    "|     **x 100 MW (Base Power)**          | 0 | 0  | 95.51258 | 194.3021 | 0  | 0  | 258.8767 | 275.5504 | 249.4314 | 146.2085 | 324.897 | 113.4393 | 311.8375 | 280.0803 | 0   | 0   | 0   | 58.74361 | 253.4794 | 304.4162 | 249.2387 | 0   | 271.4543 | 0   | 0   | 196.8562 | 272.7072 | 152.7623 | 152.425 | 163.6532 | 365.6175 | 184.7605 | 0   | 316.2228 |"
   ]
  },
  {
   "cell_type": "markdown",
   "metadata": {},
   "source": [
    "### Load curtailment\n",
    "\n",
    "| load curtailment |          |    |    |    |    |    |    |    |    |    |     |     |     |     |     |     |     |     |     |     |     |     |     |     |     |     |     |     |     |     |     |     |     |     |\n",
    "|------------------|----------|----|----|----|----|----|----|----|----|----|-----|-----|-----|-----|-----|-----|-----|-----|-----|-----|-----|-----|-----|-----|-----|-----|-----|-----|-----|-----|-----|-----|-----|-----|\n",
    "| pt               | hour     | N1 | N2 | N3 | N4 | N5 | N6 | N7 | N8 | N9 | N10 | N11 | N12 | N13 | N14 | N15 | N16 | N17 | N18 | N19 | N20 | N21 | N22 | N23 | N24 | N25 | N26 | N27 | N28 | N29 | N30 | N31 | N32 | N33 |\n",
    "| week\\|weekday    | 0 | 0  | 0  | 0  | 0  | 0  | 0  | 0  | 0  | 0  | 0   | 0   | 0   | 0   | 0   | 0   | 0   | 0   | 0   | 0   | 0   | 0   | 0   | 0   | 0   | 0   | 0   | 0   | 0   | 0   | 0   | 0   | 0   | 0   |"
   ]
  },
  {
   "cell_type": "markdown",
   "metadata": {},
   "source": [
    "### Power generation\n",
    "\n",
    "| active   power generation |          |                   |                   |                   |                   |                   |                   |                   |                   |                   |                   |                   |                   |                   |                   |                   |                   |                   |                   |\n",
    "|---------------------------|----------|-------------------|-------------------|-------------------|-------------------|-------------------|-------------------|-------------------|-------------------|-------------------|-------------------|-------------------|-------------------|-------------------|-------------------|-------------------|-------------------|-------------------|-------------------|\n",
    "| pt                        | hour     | Hydro_1           | Thermal_1         | Thermal_2         | Thermal_3         | Thermal_4         | Thermal_5         | Thermal_6         | Thermal_7         | Thermal_8         | Thermal_9         | Thermal_10        | Thermal_11        | Thermal_12        | Thermal_13        | Thermal_14        | Thermal_15        | Thermal_16        | Thermal_17        |\n",
    "| week\\|weekday             | 0 |             2.40  |             0.00  |             0.00  |             6.91  |             9.80  |             4.90  |             0.00  |            10.67  |             8.00  |             1.66  |             0.00  |             0.00  |             0.00  |             0.00  |             0.00  |             7.59  |             0.00  |             0.00  |\n",
    "| x 100 MW (Base Power)     | 0        |       240.00      |             0.00  |             0.00  |       690.70      |       980.00      |       490.00      |             0.00  |    1,066.77       |       800.00      |       166.30      |             0.00  |             0.00  |             0.00  |             0.00  |             0.00  |       758.70      |             0.00  |             0.00  |"
   ]
  },
  {
   "cell_type": "markdown",
   "metadata": {},
   "source": [
    "<br>\n",
    "<br>\n",
    "\n",
    "## Example of results and metrics \n",
    "\n",
    "### Generation mix 0:00 am"
   ]
  },
  {
   "cell_type": "code",
   "execution_count": 3,
   "metadata": {},
   "outputs": [
    {
     "data": {
      "image/png": "[encoded data removed]",
      "text/plain": [
       "<Figure size 720x360 with 1 Axes>"
      ]
     },
     "metadata": {},
     "output_type": "display_data"
    }
   ],
   "source": [
    "import numpy as np\n",
    "import matplotlib.pyplot as plt\n",
    "plt.rcParams.update({'font.size': 15})\n",
    "y = np.array([4952, 240])\n",
    "mylabels = [\"Thermal\", \"Hydro\"]\n",
    "explode = (0.0, 0.2) \n",
    "plt.subplots(figsize=(10,5))\n",
    "plt.pie(y, labels = mylabels, explode=explode, autopct='%1.1f%%',shadow=True, startangle=0)\n",
    "plt.show() "
   ]
  },
  {
   "cell_type": "markdown",
   "metadata": {},
   "source": [
    "### Generation mix 12:00 pm"
   ]
  },
  {
   "cell_type": "code",
   "execution_count": 4,
   "metadata": {},
   "outputs": [
    {
     "data": {
      "image/png": "[encoded data removed]",
      "text/plain": [
       "<Figure size 720x360 with 1 Axes>"
      ]
     },
     "metadata": {},
     "output_type": "display_data"
    }
   ],
   "source": [
    "y = np.array([8358, 240])\n",
    "mylabels = [\"Thermal\", \"Hydro\"]\n",
    "explode = (0.0, 0.2) \n",
    "plt.subplots(figsize=(10,5))\n",
    "plt.pie(y, labels = mylabels, explode=explode, autopct='%1.1f%%',shadow=True, startangle=0)\n",
    "plt.show() "
   ]
  },
  {
   "cell_type": "markdown",
   "metadata": {},
   "source": [
    "## Integration of 500 MW Solar photovoltaics + 500 MW Wind "
   ]
  },
  {
   "cell_type": "markdown",
   "metadata": {},
   "source": [
    "### Generators, including 2 new renewable power plants\n",
    "\n",
    "|     ID     | number | subtype | active power max limit |\n",
    "|:----------:|:------:|:-------:|:----------------------:|\n",
    "|   Hydro_1  |    1   |  hydro  |           240          |\n",
    "|    **PV_1**    |   20   |    pv   |           **500**          |\n",
    "|   **Wind_1**   |   26   |   wind  |           **500**          |\n",
    "|  Thermal_1 |    4   | thermal |           360          |\n",
    "|  Thermal_2 |    6   | thermal |          304.4         |\n",
    "|  Thermal_3 |   11   | thermal |          690.7         |\n",
    "|  Thermal_4 |   14   | thermal |           980          |\n",
    "|  Thermal_5 |   15   | thermal |           490          |\n",
    "|  Thermal_6 |   16   | thermal |           325          |\n",
    "|  Thermal_7 |   19   | thermal |         2443.33        |\n",
    "|  Thermal_8 |   20   | thermal |           800          |\n",
    "|  Thermal_9 |   21   | thermal |          166.3         |\n",
    "| Thermal_10 |   23   | thermal |           746          |\n",
    "| Thermal_11 |   24   | thermal |          345.8         |\n",
    "| Thermal_12 |   26   | thermal |          524.2         |\n",
    "| Thermal_13 |   27   | thermal |          345.8         |\n",
    "| Thermal_14 |   29   | thermal |          116.5         |\n",
    "| Thermal_15 |   30   | thermal |          758.7         |\n",
    "| Thermal_16 |   31   | thermal |          980.4         |\n",
    "| Thermal_17 |   32   | thermal |           769          |"
   ]
  },
  {
   "cell_type": "code",
   "execution_count": 5,
   "metadata": {},
   "outputs": [],
   "source": [
    "file_name = 'Iraq_renewables_pyensys.xlsx'\n",
    "\n",
    "path = os.getcwd()\n",
    "os.chdir(path)\n",
    "path = os.path.abspath(file_name)\n",
    "opt = main.pyeneClass()\n",
    "time=0.0\n",
    "for i in range(2):\n",
    "    time = time + i*12\n",
    "    opt.initialise(path=path)\n",
    "    subscripts = {\"pt\" : [[\"week\", \"weekday\"], \"v_string\"],\"hour\" : [time, \"double\"]}\n",
    "    opt.run(subscripts=subscripts)\n",
    "    opt.save_outputs(sim_no=int(time))\n",
    "    opt.close_output_files()"
   ]
  },
  {
   "cell_type": "markdown",
   "metadata": {},
   "source": [
    "### Generation mix 0:00 am"
   ]
  },
  {
   "cell_type": "code",
   "execution_count": 6,
   "metadata": {},
   "outputs": [
    {
     "data": {
      "image/png": "[encoded data removed]",
      "text/plain": [
       "<Figure size 720x360 with 1 Axes>"
      ]
     },
     "metadata": {},
     "output_type": "display_data"
    }
   ],
   "source": [
    "y = np.array([4584, 240, 370])\n",
    "mylabels = [\"Thermal\", \"Hydro\", \"Wind\"]\n",
    "explode = (0.0, 0.2, 0.2) \n",
    "plt.subplots(figsize=(10,5))\n",
    "plt.pie(y, labels = mylabels, explode=explode, autopct='%1.1f%%',shadow=True, startangle=0)\n",
    "plt.show() "
   ]
  },
  {
   "cell_type": "markdown",
   "metadata": {},
   "source": [
    "### Generation mix 12:00 pm"
   ]
  },
  {
   "cell_type": "code",
   "execution_count": 7,
   "metadata": {},
   "outputs": [
    {
     "data": {
      "image/png": "[encoded data removed]",
      "text/plain": [
       "<Figure size 720x360 with 1 Axes>"
      ]
     },
     "metadata": {},
     "output_type": "display_data"
    }
   ],
   "source": [
    "y = np.array([7657, 240, 342, 359])\n",
    "mylabels = [\"Thermal\", \"Hydro\", \"Wind\",  \"Photovoltaic\"]\n",
    "\n",
    "explode = (0.0, 0.1, 0.1, 0.2) \n",
    "plt.subplots(figsize=(10,5))\n",
    "plt.pie(y, labels = mylabels, explode=explode, autopct='%1.1f%%',shadow=True, startangle=0)\n",
    "plt.show() "
   ]
  },
  {
   "cell_type": "markdown",
   "metadata": {},
   "source": [
    "<br>\n",
    "<br>\n",
    "<br>\n",
    "<br>\n",
    "<br>\n",
    "<br>\n",
    "<br>\n",
    "<br>\n",
    "\n",
    "<center>\n",
    "\n",
    "# Thank you for your attention!\n",
    "\n",
    "<br>\n",
    "<br>\n",
    "\n",
    "## Any questions or comments:\n",
    "\n",
    "### ruben.bravovargas@manchester.ac.uk\n",
    "### jose.melchorgutierrez@manchester.ac.uk\n",
    "    \n",
    "<br>\n",
    "<br>\n",
    "<br>\n",
    "<br>\n",
    "<br>\n",
    "<br>\n",
    "<br>\n",
    "<br>\n"
   ]
  },
  {
   "cell_type": "code",
   "execution_count": null,
   "metadata": {},
   "outputs": [],
   "source": []
  }
 ],
 "metadata": {
  "kernelspec": {
   "display_name": "Python 3",
   "language": "python",
   "name": "python3"
  },
  "language_info": {
   "codemirror_mode": {
    "name": "ipython",
    "version": 3
   },
   "file_extension": ".py",
   "mimetype": "text/x-python",
   "name": "python",
   "nbconvert_exporter": "python",
   "pygments_lexer": "ipython3",
   "version": "3.8.5"
  }
 },
 "nbformat": 4,
 "nbformat_minor": 4
}
